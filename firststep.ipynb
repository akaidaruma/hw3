{
 "cells": [
  {
   "cell_type": "markdown",
   "metadata": {},
   "source": [
    "## 読込"
   ]
  },
  {
   "cell_type": "code",
   "execution_count": 1,
   "metadata": {},
   "outputs": [],
   "source": [
    "def readNumber(line, index):  \n",
    "    number = 0\n",
    "    while index < len(line) and line[index].isdigit():\n",
    "        number = number * 10 + int(line[index])\n",
    "        index += 1\n",
    "    if index < len(line) and line[index] == '.':\n",
    "        index += 1\n",
    "        keta = 0.1\n",
    "        while index < len(line) and line[index].isdigit():\n",
    "            number += int(line[index]) * keta\n",
    "            keta /= 10\n",
    "            index += 1\n",
    "    token = {'type': 'NUMBER', 'number': number}\n",
    "    return token, index"
   ]
  },
  {
   "cell_type": "markdown",
   "metadata": {},
   "source": [
    "## 記号読取"
   ]
  },
  {
   "cell_type": "code",
   "execution_count": 2,
   "metadata": {},
   "outputs": [],
   "source": [
    "def readPlus(line, index):\n",
    "    token = {'type': 'PLUS'}\n",
    "    return token, index + 1"
   ]
  },
  {
   "cell_type": "code",
   "execution_count": 3,
   "metadata": {},
   "outputs": [],
   "source": [
    "def readMinus(line, index):\n",
    "    token = {'type': 'MINUS'}\n",
    "    return token, index + 1"
   ]
  },
  {
   "cell_type": "code",
   "execution_count": 4,
   "metadata": {},
   "outputs": [],
   "source": [
    "def readTimes(line, index):\n",
    "    token = {'type': 'TIMES'}\n",
    "    return token, index + 1"
   ]
  },
  {
   "cell_type": "code",
   "execution_count": 5,
   "metadata": {},
   "outputs": [],
   "source": [
    "def readDivision(line, index):\n",
    "    token = {'type': 'DIVISION'}\n",
    "    return token, index + 1    "
   ]
  },
  {
   "cell_type": "markdown",
   "metadata": {},
   "source": [
    "## 文字列からトークンへ変換"
   ]
  },
  {
   "cell_type": "code",
   "execution_count": 6,
   "metadata": {},
   "outputs": [],
   "source": [
    "def tokenize(line):  \n",
    "    tokens = []\n",
    "    index = 0\n",
    "    while index < len(line):\n",
    "        if line[index].isdigit():\n",
    "            (token, index) = readNumber(line, index)\n",
    "        elif line[index] == '+':\n",
    "            (token, index) = readPlus(line, index)\n",
    "        elif line[index] == '-':\n",
    "            (token, index) = readMinus(line, index)\n",
    "        elif line[index] == '*':\n",
    "            (token, index) = readTimes(line, index)    \n",
    "        elif line[index] == '/':\n",
    "            (token, index) = readDivision(line, index)    \n",
    "        else:\n",
    "            print('Invalid character found: ' + line[index])\n",
    "            exit(1)\n",
    "        tokens.append(token)\n",
    "        #print(tokens)\n",
    "    return tokens"
   ]
  },
  {
   "cell_type": "markdown",
   "metadata": {},
   "source": [
    "## 計算パート"
   ]
  },
  {
   "cell_type": "code",
   "execution_count": 9,
   "metadata": {},
   "outputs": [],
   "source": [
    "# def evaluate(tokens):\n",
    "#     answer = 0\n",
    "#     tokens.insert(0, {'type': 'PLUS'}) # Insert a dummy '+' token\n",
    "#     index = 1\n",
    "#     while index < len(tokens):\n",
    "#         if tokens[index]['type'] == 'NUMBER':\n",
    "#             if tokens[index - 1]['type'] == 'PLUS':\n",
    "#                 answer += tokens[index]['number']\n",
    "#             elif tokens[index - 1]['type'] == 'MINUS':\n",
    "#                 answer -= tokens[index]['number']\n",
    "#             elif tokens[index - 1]['type'] == 'TIMES':\n",
    "#                 answer *= tokens[index]['number']\n",
    "#             elif tokens[index - 1]['type'] == 'DIVISION':\n",
    "#                 answer /= tokens[index]['number']\n",
    "#             else:\n",
    "#                 print('Invalid syntax')\n",
    "#                 exit(1)\n",
    "#         index += 1\n",
    "#     return answer"
   ]
  },
  {
   "cell_type": "code",
   "execution_count": 7,
   "metadata": {},
   "outputs": [],
   "source": [
    "def evaluate_first(tokens):\n",
    "    answer = 1\n",
    "    tokens.insert(0, {'type': 'TIMES'}) # Insert a dummy '*' token\n",
    "    index = 1\n",
    "    while index < len(tokens):\n",
    "        print(index)\n",
    "        if tokens[index]['type'] == 'NUMBER':\n",
    "            if tokens[index - 1]['type'] == 'TIMES':\n",
    "                answer *= tokens[index]['number']\n",
    "                tokens[index-1]['type'] = 'PLUS'\n",
    "                tokens[index]['number'] = 0\n",
    "            elif tokens[index - 1]['type'] == 'DIVISION':\n",
    "                answer /= tokens[index]['number']\n",
    "                tokens[index-1]['type'] = 'PLUS'\n",
    "                tokens[index]['number'] = 0\n",
    "            else:\n",
    "                print('Invalid syntax')\n",
    "                tokens[index-2]['type'] = 'NUMBER'\n",
    "                tokens[index-2]['number'] = answer\n",
    "                answer = tokens[index]['number']\n",
    "#                 if index==len(tokens):\n",
    "#                     tokens[index]['number'] = 0\n",
    "#                     exit(1)\n",
    "#                 if index!=len(tokens)-1:\n",
    "                if (index!=len(tokens)-1) and (tokens[index+1]['type'] == 'TIMES' or tokens[index+1]['type'] == 'DIVISION'):\n",
    "                    tokens[index]['number'] = 0\n",
    "                    exit(1)\n",
    "        print(tokens)\n",
    "        print(answer)\n",
    "        print(\"=\"*10)\n",
    "        index += 1\n",
    "    tokens[index-1]['type'] = 'NUMBER'\n",
    "    tokens[index-1]['number'] = answer\n",
    "    #print(tokens)\n",
    "    return tokens"
   ]
  },
  {
   "cell_type": "code",
   "execution_count": 9,
   "metadata": {},
   "outputs": [],
   "source": [
    "def evaluate_second(tokens):\n",
    "    answer = 0\n",
    "    if tokens[0] != {'type': 'PLUS'}:\n",
    "        tokens.insert(0, {'type': 'PLUS'}) # Insert a dummy '+' token\n",
    "    index = 1\n",
    "    while index < len(tokens):\n",
    "        if tokens[index]['type'] == 'NUMBER':\n",
    "            if tokens[index - 1]['type'] == 'PLUS':\n",
    "                answer += tokens[index]['number']\n",
    "            elif tokens[index - 1]['type'] == 'MINUS':\n",
    "                answer -= tokens[index]['number']\n",
    "            else:\n",
    "                print('Invalid syntax')\n",
    "                exit(1)\n",
    "        index += 1\n",
    "    return answer"
   ]
  },
  {
   "cell_type": "markdown",
   "metadata": {},
   "source": [
    "## まとめ"
   ]
  },
  {
   "cell_type": "code",
   "execution_count": 10,
   "metadata": {},
   "outputs": [],
   "source": [
    "def test(line):\n",
    "    tokens = tokenize(line)\n",
    "    print(\"~\"*10)\n",
    "    print(tokens)\n",
    "    print(\"~\"*10)\n",
    "    #actualAnswer = evaluate_first(tokens)\n",
    "    if '*' in line or '/' in line:\n",
    "        print(\"OK\")\n",
    "        tokens = evaluate_first(tokens)\n",
    "    answer = evaluate_second(tokens)\n",
    "    print(\"answer:%s\" % answer)\n",
    "    return answer\n",
    "#     expectedAnswer = eval(line)\n",
    "#     if abs(actualAnswer - expectedAnswer) < 1e-8:\n",
    "#         print(\"PASS! (%s = %f)\" % (line, expectedAnswer))\n",
    "#         print(\"tokens:%s\" % actualTokens)\n",
    "#     else:\n",
    "#         print(\"FAIL! (%s should be %f but was %f)\" % (line, expectedAnswer, actualAnswer))\n",
    "#         print(\"tokens:%s\" % actualTokens)"
   ]
  },
  {
   "cell_type": "markdown",
   "metadata": {},
   "source": [
    "## テスト"
   ]
  },
  {
   "cell_type": "code",
   "execution_count": 11,
   "metadata": {},
   "outputs": [],
   "source": [
    "# Add more tests to this function :)\n",
    "def runTest():\n",
    "    print(\"==== Test started! ====\")\n",
    "    test(\"1+2*3\")\n",
    "    #test(\"1.0+2.1-3\")\n",
    "    print(\"==== Test finished! ====\\n\")"
   ]
  },
  {
   "cell_type": "code",
   "execution_count": 12,
   "metadata": {},
   "outputs": [
    {
     "name": "stdout",
     "output_type": "stream",
     "text": [
      "==== Test started! ====\n",
      "~~~~~~~~~~\n",
      "[{'type': 'NUMBER', 'number': 1}, {'type': 'PLUS'}, {'type': 'NUMBER', 'number': 2}, {'type': 'TIMES'}, {'type': 'NUMBER', 'number': 3}]\n",
      "~~~~~~~~~~\n",
      "OK\n",
      "1\n",
      "[{'type': 'PLUS'}, {'type': 'NUMBER', 'number': 0}, {'type': 'PLUS'}, {'type': 'NUMBER', 'number': 2}, {'type': 'TIMES'}, {'type': 'NUMBER', 'number': 3}]\n",
      "1\n",
      "==========\n",
      "2\n",
      "[{'type': 'PLUS'}, {'type': 'NUMBER', 'number': 0}, {'type': 'PLUS'}, {'type': 'NUMBER', 'number': 2}, {'type': 'TIMES'}, {'type': 'NUMBER', 'number': 3}]\n",
      "1\n",
      "==========\n",
      "3\n",
      "Invalid syntax\n",
      "[{'type': 'PLUS'}, {'type': 'NUMBER', 'number': 1}, {'type': 'PLUS'}, {'type': 'NUMBER', 'number': 0}, {'type': 'TIMES'}, {'type': 'NUMBER', 'number': 3}]\n",
      "2\n",
      "==========\n",
      "4\n",
      "[{'type': 'PLUS'}, {'type': 'NUMBER', 'number': 1}, {'type': 'PLUS'}, {'type': 'NUMBER', 'number': 0}, {'type': 'TIMES'}, {'type': 'NUMBER', 'number': 3}]\n",
      "2\n",
      "==========\n",
      "5\n",
      "[{'type': 'PLUS'}, {'type': 'NUMBER', 'number': 1}, {'type': 'PLUS'}, {'type': 'NUMBER', 'number': 0}, {'type': 'PLUS'}, {'type': 'NUMBER', 'number': 0}]\n",
      "6\n",
      "==========\n",
      "answer:7\n",
      "==== Test finished! ====\n",
      "\n"
     ]
    }
   ],
   "source": [
    "runTest()"
   ]
  },
  {
   "cell_type": "markdown",
   "metadata": {},
   "source": [
    "## 完成版"
   ]
  },
  {
   "cell_type": "code",
   "execution_count": 13,
   "metadata": {},
   "outputs": [
    {
     "name": "stdout",
     "output_type": "stream",
     "text": [
      "> 1+2*3\n",
      "~~~~~~~~~~\n",
      "[{'type': 'NUMBER', 'number': 1}, {'type': 'PLUS'}, {'type': 'NUMBER', 'number': 2}, {'type': 'TIMES'}, {'type': 'NUMBER', 'number': 3}]\n",
      "~~~~~~~~~~\n",
      "OK\n",
      "1\n",
      "[{'type': 'PLUS'}, {'type': 'NUMBER', 'number': 0}, {'type': 'PLUS'}, {'type': 'NUMBER', 'number': 2}, {'type': 'TIMES'}, {'type': 'NUMBER', 'number': 3}]\n",
      "1\n",
      "==========\n",
      "2\n",
      "[{'type': 'PLUS'}, {'type': 'NUMBER', 'number': 0}, {'type': 'PLUS'}, {'type': 'NUMBER', 'number': 2}, {'type': 'TIMES'}, {'type': 'NUMBER', 'number': 3}]\n",
      "1\n",
      "==========\n",
      "3\n",
      "Invalid syntax\n",
      "[{'type': 'PLUS'}, {'type': 'NUMBER', 'number': 1}, {'type': 'PLUS'}, {'type': 'NUMBER', 'number': 0}, {'type': 'TIMES'}, {'type': 'NUMBER', 'number': 3}]\n",
      "2\n",
      "==========\n",
      "4\n",
      "[{'type': 'PLUS'}, {'type': 'NUMBER', 'number': 1}, {'type': 'PLUS'}, {'type': 'NUMBER', 'number': 0}, {'type': 'TIMES'}, {'type': 'NUMBER', 'number': 3}]\n",
      "2\n",
      "==========\n",
      "5\n",
      "[{'type': 'PLUS'}, {'type': 'NUMBER', 'number': 1}, {'type': 'PLUS'}, {'type': 'NUMBER', 'number': 0}, {'type': 'PLUS'}, {'type': 'NUMBER', 'number': 0}]\n",
      "6\n",
      "==========\n",
      "answer:7\n",
      "> q\n",
      "Invalid character found: q\n"
     ]
    },
    {
     "ename": "UnboundLocalError",
     "evalue": "local variable 'token' referenced before assignment",
     "output_type": "error",
     "traceback": [
      "\u001b[0;31m---------------------------------------------------------------------------\u001b[0m",
      "\u001b[0;31mUnboundLocalError\u001b[0m                         Traceback (most recent call last)",
      "\u001b[0;32m<ipython-input-13-4f4f42097ae8>\u001b[0m in \u001b[0;36m<module>\u001b[0;34m\u001b[0m\n\u001b[1;32m      3\u001b[0m     \u001b[0mline\u001b[0m \u001b[0;34m=\u001b[0m \u001b[0minput\u001b[0m\u001b[0;34m(\u001b[0m\u001b[0;34m)\u001b[0m\u001b[0;34m\u001b[0m\u001b[0m\n\u001b[1;32m      4\u001b[0m     \u001b[0;31m#tokens = tokenize(line)\u001b[0m\u001b[0;34m\u001b[0m\u001b[0;34m\u001b[0m\u001b[0m\n\u001b[0;32m----> 5\u001b[0;31m     \u001b[0manswer\u001b[0m \u001b[0;34m=\u001b[0m \u001b[0mtest\u001b[0m\u001b[0;34m(\u001b[0m\u001b[0mline\u001b[0m\u001b[0;34m)\u001b[0m\u001b[0;34m\u001b[0m\u001b[0m\n\u001b[0m\u001b[1;32m      6\u001b[0m     \u001b[0;31m#print(\"answer = %f\\n\" % answer)\u001b[0m\u001b[0;34m\u001b[0m\u001b[0;34m\u001b[0m\u001b[0m\n",
      "\u001b[0;32m<ipython-input-10-254284b86a16>\u001b[0m in \u001b[0;36mtest\u001b[0;34m(line)\u001b[0m\n\u001b[1;32m      1\u001b[0m \u001b[0;32mdef\u001b[0m \u001b[0mtest\u001b[0m\u001b[0;34m(\u001b[0m\u001b[0mline\u001b[0m\u001b[0;34m)\u001b[0m\u001b[0;34m:\u001b[0m\u001b[0;34m\u001b[0m\u001b[0m\n\u001b[0;32m----> 2\u001b[0;31m     \u001b[0mtokens\u001b[0m \u001b[0;34m=\u001b[0m \u001b[0mtokenize\u001b[0m\u001b[0;34m(\u001b[0m\u001b[0mline\u001b[0m\u001b[0;34m)\u001b[0m\u001b[0;34m\u001b[0m\u001b[0m\n\u001b[0m\u001b[1;32m      3\u001b[0m     \u001b[0mprint\u001b[0m\u001b[0;34m(\u001b[0m\u001b[0;34m\"~\"\u001b[0m\u001b[0;34m*\u001b[0m\u001b[0;36m10\u001b[0m\u001b[0;34m)\u001b[0m\u001b[0;34m\u001b[0m\u001b[0m\n\u001b[1;32m      4\u001b[0m     \u001b[0mprint\u001b[0m\u001b[0;34m(\u001b[0m\u001b[0mtokens\u001b[0m\u001b[0;34m)\u001b[0m\u001b[0;34m\u001b[0m\u001b[0m\n\u001b[1;32m      5\u001b[0m     \u001b[0mprint\u001b[0m\u001b[0;34m(\u001b[0m\u001b[0;34m\"~\"\u001b[0m\u001b[0;34m*\u001b[0m\u001b[0;36m10\u001b[0m\u001b[0;34m)\u001b[0m\u001b[0;34m\u001b[0m\u001b[0m\n",
      "\u001b[0;32m<ipython-input-6-f4dbfecf88b3>\u001b[0m in \u001b[0;36mtokenize\u001b[0;34m(line)\u001b[0m\n\u001b[1;32m     16\u001b[0m             \u001b[0mprint\u001b[0m\u001b[0;34m(\u001b[0m\u001b[0;34m'Invalid character found: '\u001b[0m \u001b[0;34m+\u001b[0m \u001b[0mline\u001b[0m\u001b[0;34m[\u001b[0m\u001b[0mindex\u001b[0m\u001b[0;34m]\u001b[0m\u001b[0;34m)\u001b[0m\u001b[0;34m\u001b[0m\u001b[0m\n\u001b[1;32m     17\u001b[0m             \u001b[0mexit\u001b[0m\u001b[0;34m(\u001b[0m\u001b[0;36m1\u001b[0m\u001b[0;34m)\u001b[0m\u001b[0;34m\u001b[0m\u001b[0m\n\u001b[0;32m---> 18\u001b[0;31m         \u001b[0mtokens\u001b[0m\u001b[0;34m.\u001b[0m\u001b[0mappend\u001b[0m\u001b[0;34m(\u001b[0m\u001b[0mtoken\u001b[0m\u001b[0;34m)\u001b[0m\u001b[0;34m\u001b[0m\u001b[0m\n\u001b[0m\u001b[1;32m     19\u001b[0m         \u001b[0;31m#print(tokens)\u001b[0m\u001b[0;34m\u001b[0m\u001b[0;34m\u001b[0m\u001b[0m\n\u001b[1;32m     20\u001b[0m     \u001b[0;32mreturn\u001b[0m \u001b[0mtokens\u001b[0m\u001b[0;34m\u001b[0m\u001b[0m\n",
      "\u001b[0;31mUnboundLocalError\u001b[0m: local variable 'token' referenced before assignment"
     ]
    }
   ],
   "source": [
    "while True:\n",
    "    print('> ', end=\"\")\n",
    "    line = input()\n",
    "    #tokens = tokenize(line)\n",
    "    answer = test(line)\n",
    "    #print(\"answer = %f\\n\" % answer)"
   ]
  },
  {
   "cell_type": "code",
   "execution_count": null,
   "metadata": {},
   "outputs": [],
   "source": []
  }
 ],
 "metadata": {
  "kernelspec": {
   "display_name": "Python 3",
   "language": "python",
   "name": "python3"
  },
  "language_info": {
   "codemirror_mode": {
    "name": "ipython",
    "version": 3
   },
   "file_extension": ".py",
   "mimetype": "text/x-python",
   "name": "python",
   "nbconvert_exporter": "python",
   "pygments_lexer": "ipython3",
   "version": "3.6.2"
  }
 },
 "nbformat": 4,
 "nbformat_minor": 2
}
