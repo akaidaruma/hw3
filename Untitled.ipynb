{
 "cells": [
  {
   "cell_type": "markdown",
   "metadata": {},
   "source": [
    "## 読込"
   ]
  },
  {
   "cell_type": "code",
   "execution_count": 22,
   "metadata": {},
   "outputs": [],
   "source": [
    "def readNumber(line, index):\n",
    "  number = 0\n",
    "  while index < len(line) and line[index].isdigit():\n",
    "    number = number * 10 + int(line[index])\n",
    "    index += 1\n",
    "  if index < len(line) and line[index] == '.':\n",
    "    index += 1\n",
    "    keta = 0.1\n",
    "    while index < len(line) and line[index].isdigit():\n",
    "      number += int(line[index]) * keta\n",
    "      keta /= 10\n",
    "      index += 1\n",
    "  token = {'type': 'NUMBER', 'number': number}\n",
    "  return token, index"
   ]
  },
  {
   "cell_type": "markdown",
   "metadata": {},
   "source": [
    "## 記号読取"
   ]
  },
  {
   "cell_type": "code",
   "execution_count": 23,
   "metadata": {},
   "outputs": [],
   "source": [
    "def readPlus(line, index):\n",
    "  token = {'type': 'PLUS'}\n",
    "  return token, index + 1"
   ]
  },
  {
   "cell_type": "code",
   "execution_count": 24,
   "metadata": {},
   "outputs": [],
   "source": [
    "def readMinus(line, index):\n",
    "  token = {'type': 'MINUS'}\n",
    "  return token, index + 1"
   ]
  },
  {
   "cell_type": "code",
   "execution_count": 25,
   "metadata": {},
   "outputs": [],
   "source": [
    "def readTimes(line, index):\n",
    "  token = {'type': 'TIMES'}\n",
    "  return token, index + 1"
   ]
  },
  {
   "cell_type": "code",
   "execution_count": 36,
   "metadata": {},
   "outputs": [],
   "source": [
    "def readDivision(line, index):\n",
    "  token = {'type': 'DIVISION'}\n",
    "  return token, index + 1    "
   ]
  },
  {
   "cell_type": "markdown",
   "metadata": {},
   "source": [
    "## 文字列からトークンへ変換"
   ]
  },
  {
   "cell_type": "code",
   "execution_count": 37,
   "metadata": {},
   "outputs": [],
   "source": [
    "def tokenize(line):\n",
    "  tokens = []\n",
    "  index = 0\n",
    "  while index < len(line):\n",
    "    if line[index].isdigit():\n",
    "      (token, index) = readNumber(line, index)\n",
    "    elif line[index] == '+':\n",
    "      (token, index) = readPlus(line, index)\n",
    "    elif line[index] == '-':\n",
    "      (token, index) = readMinus(line, index)\n",
    "    elif line[index] == '*':\n",
    "      (token, index) = readTimes(line, index)    \n",
    "    elif line[index] == '/':\n",
    "      (token, index) = readDivision(line, index)    \n",
    "    else:\n",
    "      print('Invalid character found: ' + line[index])\n",
    "      exit(1)\n",
    "    tokens.append(token)\n",
    "    print(tokens)\n",
    "  return tokens"
   ]
  },
  {
   "cell_type": "markdown",
   "metadata": {},
   "source": [
    "## 計算パート"
   ]
  },
  {
   "cell_type": "code",
   "execution_count": 38,
   "metadata": {},
   "outputs": [],
   "source": [
    "def evaluate(tokens):\n",
    "  answer = 0\n",
    "  tokens.insert(0, {'type': 'PLUS'}) # Insert a dummy '+' token\n",
    "  index = 1\n",
    "  while index < len(tokens):\n",
    "    if tokens[index]['type'] == 'NUMBER':\n",
    "      if tokens[index - 1]['type'] == 'PLUS':\n",
    "        answer += tokens[index]['number']\n",
    "      elif tokens[index - 1]['type'] == 'MINUS':\n",
    "        answer -= tokens[index]['number']\n",
    "      elif tokens[index - 1]['type'] == 'TIMES':\n",
    "        answer *= tokens[index]['number']\n",
    "      elif tokens[index - 1]['type'] == 'DIVISION':\n",
    "        answer /= tokens[index]['number']\n",
    "      else:\n",
    "        print('Invalid syntax')\n",
    "        exit(1)\n",
    "    index += 1\n",
    "  return answer"
   ]
  },
  {
   "cell_type": "code",
   "execution_count": 60,
   "metadata": {},
   "outputs": [],
   "source": [
    "def evaluate_first(tokens):\n",
    "  answer = 1\n",
    "  tokens.insert(0, {'type': 'TIMES'}) # Insert a dummy '+' token\n",
    "  index = 1\n",
    "  while index < len(tokens):\n",
    "    if tokens[index]['type'] == 'NUMBER':\n",
    "      if tokens[index - 1]['type'] == 'TIMES':\n",
    "        answer *= tokens[index]['number']\n",
    "      elif tokens[index - 1]['type'] == 'DIVISION':\n",
    "        answer /= tokens[index]['number']\n",
    "      else:\n",
    "        print('Invalid syntax')\n",
    "        exit(1)\n",
    "    index += 1\n",
    "  return answer"
   ]
  },
  {
   "cell_type": "code",
   "execution_count": 59,
   "metadata": {},
   "outputs": [],
   "source": [
    "def evaluate_second(tokens):\n",
    "  answer = 0\n",
    "  tokens.insert(0, {'type': 'PLUS'}) # Insert a dummy '+' token\n",
    "  index = 1\n",
    "  while index < len(tokens):\n",
    "    if tokens[index]['type'] == 'NUMBER':\n",
    "      if tokens[index - 1]['type'] == 'PLUS':\n",
    "        answer += tokens[index]['number']\n",
    "      elif tokens[index - 1]['type'] == 'MINUS':\n",
    "        answer -= tokens[index]['number']\n",
    "      else:\n",
    "        print('Invalid syntax')\n",
    "        exit(1)\n",
    "    index += 1\n",
    "  return answer"
   ]
  },
  {
   "cell_type": "markdown",
   "metadata": {},
   "source": [
    "## まとめ"
   ]
  },
  {
   "cell_type": "code",
   "execution_count": 61,
   "metadata": {},
   "outputs": [],
   "source": [
    "def test(line):\n",
    "  tokens = tokenize(line)\n",
    "  actualAnswer = evaluate_first(tokens)\n",
    "  expectedAnswer = eval(line)\n",
    "  if abs(actualAnswer - expectedAnswer) < 1e-8:\n",
    "    print(\"PASS! (%s = %f)\" % (line, expectedAnswer))\n",
    "  else:\n",
    "    print(\"FAIL! (%s should be %f but was %f)\" % (line, expectedAnswer, actualAnswer))"
   ]
  },
  {
   "cell_type": "markdown",
   "metadata": {},
   "source": [
    "## テスト"
   ]
  },
  {
   "cell_type": "code",
   "execution_count": 64,
   "metadata": {},
   "outputs": [],
   "source": [
    "# Add more tests to this function :)\n",
    "def runTest():\n",
    "  print(\"==== Test started! ====\")\n",
    "  test(\"2/2\")\n",
    "  #test(\"1.0+2.1-3\")\n",
    "  print(\"==== Test finished! ====\\n\")"
   ]
  },
  {
   "cell_type": "code",
   "execution_count": 65,
   "metadata": {},
   "outputs": [
    {
     "name": "stdout",
     "output_type": "stream",
     "text": [
      "==== Test started! ====\n",
      "[{'type': 'NUMBER', 'number': 2}]\n",
      "[{'type': 'NUMBER', 'number': 2}, {'type': 'DIVISION'}]\n",
      "[{'type': 'NUMBER', 'number': 2}, {'type': 'DIVISION'}, {'type': 'NUMBER', 'number': 2}]\n",
      "PASS! (2/2 = 1.000000)\n",
      "==== Test finished! ====\n",
      "\n"
     ]
    }
   ],
   "source": [
    "runTest()"
   ]
  },
  {
   "cell_type": "code",
   "execution_count": 20,
   "metadata": {},
   "outputs": [
    {
     "name": "stdout",
     "output_type": "stream",
     "text": [
      "{'type': 'NUMBER', 'number': 2}\n"
     ]
    }
   ],
   "source": [
    "print(tokens[3])"
   ]
  },
  {
   "cell_type": "markdown",
   "metadata": {},
   "source": [
    "## 完成版"
   ]
  },
  {
   "cell_type": "code",
   "execution_count": null,
   "metadata": {},
   "outputs": [],
   "source": [
    "while True:\n",
    "  print('> ', end=\"\")\n",
    "  line = input()\n",
    "  tokens = tokenize(line)\n",
    "  answer = evaluate(tokens)\n",
    "  print(\"answer = %f\\n\" % answer)"
   ]
  }
 ],
 "metadata": {
  "kernelspec": {
   "display_name": "Python 3",
   "language": "python",
   "name": "python3"
  },
  "language_info": {
   "codemirror_mode": {
    "name": "ipython",
    "version": 3
   },
   "file_extension": ".py",
   "mimetype": "text/x-python",
   "name": "python",
   "nbconvert_exporter": "python",
   "pygments_lexer": "ipython3",
   "version": "3.6.2"
  }
 },
 "nbformat": 4,
 "nbformat_minor": 2
}
